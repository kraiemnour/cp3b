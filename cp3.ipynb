{
 "cells": [
  {
   "cell_type": "code",
   "execution_count": null,
   "id": "9745661e",
   "metadata": {},
   "outputs": [],
   "source": [
    "a = int(input(\"19 \"))\n",
    "b = int(input(\"20 \"))\n",
    "c = int(input(\"35 \"))\n",
    "a=19\n",
    "b=20\n",
    "c=35\n",
    "if (a>b)and(b>c):\n",
    "    print(a)\n",
    "if not (b>a)and(b>c):\n",
    "    print(b)\n",
    "    print(\"the Max of three numbers\")"
   ]
  },
  {
   "cell_type": "code",
   "execution_count": null,
   "id": "4e531c24",
   "metadata": {},
   "outputs": [],
   "source": []
  }
 ],
 "metadata": {
  "kernelspec": {
   "display_name": "Python 3",
   "language": "python",
   "name": "python3"
  },
  "language_info": {
   "codemirror_mode": {
    "name": "ipython",
    "version": 3
   },
   "file_extension": ".py",
   "mimetype": "text/x-python",
   "name": "python",
   "nbconvert_exporter": "python",
   "pygments_lexer": "ipython3",
   "version": "3.8.8"
  }
 },
 "nbformat": 4,
 "nbformat_minor": 5
}
